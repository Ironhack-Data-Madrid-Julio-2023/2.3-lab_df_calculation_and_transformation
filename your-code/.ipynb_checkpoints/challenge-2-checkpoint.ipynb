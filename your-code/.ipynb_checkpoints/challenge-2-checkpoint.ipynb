{
 "cells": [
  {
   "cell_type": "markdown",
   "metadata": {},
   "source": [
    "# Challenge 2\n",
    "\n",
    "In this challenge we will continue working with the `Pokemon` dataset. We will attempt solving a slightly more complex problem in which we will practice the iterative data analysis process you leaned in [this video](https://www.youtube.com/watch?v=xOomNicqbkk).\n",
    "\n",
    "The problem statement is as follows:\n",
    "\n",
    "**You are at a Pokemon black market planning to buy a Pokemon for battle. All Pokemon are sold at the same price and you can only afford to buy one. You cannot choose which specific Pokemon to buy. However, you can specify the type of the Pokemon - one type that exists in either `Type 1` or `Type 2`. Which type should you choose in order to maximize your chance of receiving a good Pokemon?**\n",
    "\n",
    "To remind you about the 3 steps of iterative data analysis, they are:\n",
    "\n",
    "1. Setting Expectations\n",
    "1. Collecting Information\n",
    "1. Reacting to Data / Revising Expectations\n",
    "\n",
    "Following the iterative process, we'll guide you in completing the challenge."
   ]
  },
  {
   "cell_type": "markdown",
   "metadata": {},
   "source": [
    "\n",
    "## Problem Solving Iteration 1\n",
    "\n",
    "In this iteration we'll analyze the problem and identify the breakthrough. The original question statement is kind of vague because we don't know what a *good pokemon* really means as represented in the data. We'll start by understanding the dataset and see if we can find some insights."
   ]
  },
  {
   "cell_type": "code",
   "execution_count": 1,
   "metadata": {},
   "outputs": [],
   "source": [
    "# Import libraries\n",
    "import numpy as np\n",
    "import pandas as pd\n",
    "import matplotlib.pyplot as plt\n",
    "import seaborn as sns"
   ]
  },
  {
   "cell_type": "code",
   "execution_count": null,
   "metadata": {
    "scrolled": true
   },
   "outputs": [],
   "source": []
  },
  {
   "cell_type": "markdown",
   "metadata": {},
   "source": [
    "From the data it seems whether a pokemon is good depends on its abilities as represented in the fields of `HP`, `Attack`, `Defense`, `Sp. Atk`, `Sp. Def`, `Speed`, and `Total`. We are not sure about `Generation` and `Legendary` because they are not necessarily the decisive factors of the pokemon abilities.\n",
    "\n",
    "But `HP`, `Attack`, `Defense`, `Sp. Atk`, `Sp. Def`, `Speed`, and `Total` are a lot of fields! If we look at them all at once it's very complicated. This isn't Mission Impossible but it's ideal that we tackle this kind of problem after we learn Machine Learning (which you will do in Module 3). For now, is there a way to consolidate the fields we need to look into?\n",
    "\n",
    "Fortunately there seems to be a way. It appears the `Total` field is computed based on the other 6 fields. But we need to prove our theory. If we can approve there is a formula to compute `Total` based on the other 6 abilities, we only need to look into `Total`.\n",
    "\n",
    "We have the following expectation now:\n",
    "\n",
    "#### The `Total` field is computed based on `HP`, `Attack`, `Defense`, `Sp. Atk`, `Sp. Def`, and `Speed`.\n",
    "\n",
    "We need to collect the following information:\n",
    "\n",
    "* **What is the formula to compute `Total`?**\n",
    "* **Does the formula work for all pokemon?**\n",
    "\n",
    "In the cell below, make a hypothesis on how `Total` is computed and test your hypothesis."
   ]
  },
  {
   "cell_type": "code",
   "execution_count": 4,
   "metadata": {},
   "outputs": [
    {
     "name": "stdout",
     "output_type": "stream",
     "text": [
      "Coincidencia entre el Total real y el Total calculado para 800 Pokémon de un total de 800 Pokémon.\n"
     ]
    }
   ],
   "source": [
    "import pandas as pd\n",
    "Pokemon_data= pd.read_csv('Pokemon.csv')\n",
    "\n",
    "# Calculamos el Total utilizando nuestra hipótesis\n",
    "Pokemon_data['Total_Calculado'] = Pokemon_data['HP'] + Pokemon_data['Attack'] + Pokemon_data['Defense'] + Pokemon_data['Sp. Atk'] + Pokemon_data['Sp. Def'] + Pokemon_data['Speed']\n",
    "\n",
    "# Comparamos el Total calculado con el Total real\n",
    "comparison = Pokemon_data['Total'] == Pokemon_data['Total_Calculado']\n",
    "\n",
    "# Contamos el número de Pokémon para los cuales el Total coincide\n",
    "matching_count = comparison.value_counts()[True]\n",
    "\n",
    "print(f\"Coincidencia entre el Total real y el Total calculado para {matching_count} Pokémon de un total de {len(Pokemon_data)} Pokémon.\")"
   ]
  },
  {
   "cell_type": "markdown",
   "metadata": {},
   "source": [
    "## Problem Solving Iteration 2\n",
    "\n",
    "Now that we have consolidated the abilities fields, we can update the problem statement. The new problem statement is:\n",
    "\n",
    "### Which pokemon type is most likely to have the highest `Total` value?\n",
    "\n",
    "In the updated problem statement, we assume there is a certain relationship between the `Total` and the pokemon type. But we have two *type* fields (`Type 1` and `Type 2`) that have string values. In data analysis, string fields have to be transformed to numerical format in order to be analyzed. \n",
    "\n",
    "In addition, keep in mind that `Type 1` always has a value but `Type 2` is sometimes empty (having the `NaN` value). Also, the pokemon type we choose may be either in `Type 1` or `Type 2`.\n",
    "\n",
    "Now our expectation is:\n",
    "\n",
    "#### `Type 1` and `Type 2` string variables need to be converted to numerical variables in order to identify the relationship between `Total` and the pokemon type.\n",
    "\n",
    "The information we need to collect is:\n",
    "\n",
    "#### How to convert two string variables to numerical?\n",
    "\n",
    "Let's address the first question first. You can use a method called **One Hot Encoding** which is frequently used in machine learning to encode categorical string variables to numerical. The idea is to gather all the possible string values in a categorical field and create a numerical field for each unique string value. Each of those numerical fields uses `1` and `0` to indicate whether the data record has the corresponding categorical value. A detailed explanation of One Hot Encoding can be found in [this article](https://hackernoon.com/what-is-one-hot-encoding-why-and-when-do-you-have-to-use-it-e3c6186d008f). You will formally learn it in Module 3.\n",
    "\n",
    "For instance, if a pokemon has `Type 1` as `Poison` and `Type 2` as `Fire`, then its `Poison` and `Fire` fields are `1` whereas all other fields are `0`. If a pokemon has `Type 1` as `Water` and `Type 2` as `NaN`, then its `Water` field is `1` whereas all other fields are `0`.\n",
    "\n",
    "#### In the next cell, use One Hot Encoding to encode `Type 1` and `Type 2`. Use the pokemon type values as the names of the numerical fields you create.\n",
    "\n",
    "The new numerical variables you create should look like below:\n",
    "\n",
    "![One Hot Encoding](../images/one-hot-encoding.png)"
   ]
  },
  {
   "cell_type": "code",
   "execution_count": 15,
   "metadata": {},
   "outputs": [
    {
     "name": "stdout",
     "output_type": "stream",
     "text": [
      "   Type 1_Bug  Type 1_Dark  Type 1_Dragon  Type 1_Electric  Type 1_Fairy  \\\n",
      "0         0.0          0.0            0.0              0.0           0.0   \n",
      "1         0.0          0.0            0.0              0.0           0.0   \n",
      "2         0.0          0.0            0.0              0.0           0.0   \n",
      "3         0.0          0.0            0.0              0.0           0.0   \n",
      "4         0.0          0.0            0.0              0.0           0.0   \n",
      "\n",
      "   Type 1_Fighting  Type 1_Fire  Type 1_Flying  Type 1_Ghost  Type 1_Grass  \\\n",
      "0              0.0          0.0            0.0           0.0           1.0   \n",
      "1              0.0          0.0            0.0           0.0           1.0   \n",
      "2              0.0          0.0            0.0           0.0           1.0   \n",
      "3              0.0          0.0            0.0           0.0           1.0   \n",
      "4              0.0          1.0            0.0           0.0           0.0   \n",
      "\n",
      "   ...  Type 2_Grass  Type 2_Ground  Type 2_Ice  Type 2_NaN  Type 2_Normal  \\\n",
      "0  ...           0.0            0.0         0.0         0.0            0.0   \n",
      "1  ...           0.0            0.0         0.0         0.0            0.0   \n",
      "2  ...           0.0            0.0         0.0         0.0            0.0   \n",
      "3  ...           0.0            0.0         0.0         0.0            0.0   \n",
      "4  ...           0.0            0.0         0.0         1.0            0.0   \n",
      "\n",
      "   Type 2_Poison  Type 2_Psychic  Type 2_Rock  Type 2_Steel  Type 2_Water  \n",
      "0            1.0             0.0          0.0           0.0           0.0  \n",
      "1            1.0             0.0          0.0           0.0           0.0  \n",
      "2            1.0             0.0          0.0           0.0           0.0  \n",
      "3            1.0             0.0          0.0           0.0           0.0  \n",
      "4            0.0             0.0          0.0           0.0           0.0  \n",
      "\n",
      "[5 rows x 37 columns]\n"
     ]
    },
    {
     "name": "stderr",
     "output_type": "stream",
     "text": [
      "C:\\Users\\Usuario\\anaconda3\\lib\\site-packages\\sklearn\\preprocessing\\_encoders.py:828: FutureWarning: `sparse` was renamed to `sparse_output` in version 1.2 and will be removed in 1.4. `sparse_output` is ignored unless you leave `sparse` to its default value.\n",
      "  warnings.warn(\n"
     ]
    }
   ],
   "source": [
    "import pandas as pd\n",
    "from sklearn.preprocessing import OneHotEncoder\n",
    "\n",
    "# Instalamos o actualizamos scikit-learn si no está instalado en tu entorno\n",
    "# pip install --upgrade scikit-learn\n",
    "\n",
    "# Cargamos el conjunto de datos\n",
    "Pokemon_data = pd.read_csv('Pokemon.csv')\n",
    "\n",
    "# Creamos una copia del conjunto de datos\n",
    "Pokemon_encoded = Pokemon_data.copy()\n",
    "\n",
    "# Aplicamos One Hot Encoding a las variables Tipo 1 y Tipo 2\n",
    "encoder = OneHotEncoder(sparse=False, handle_unknown='ignore')\n",
    "encoded_cols = encoder.fit_transform(Pokemon_encoded[['Type 1', 'Type 2']].fillna('NaN'))\n",
    "encoded_names = encoder.get_feature_names_out(['Type 1', 'Type 2'])\n",
    "Pokemon_encoded[encoded_names] = encoded_cols\n",
    "\n",
    "# Mostramos las columnas resultantes\n",
    "print(Pokemon_encoded[encoded_names].head())"
   ]
  },
  {
   "cell_type": "markdown",
   "metadata": {},
   "source": [
    "## Problem Solving Iteration 3\n",
    "\n",
    "Now we have encoded the pokemon types, we will identify the relationship between `Total` and the encoded fields. Our expectation is:\n",
    "\n",
    "#### There are relationships between `Total` and the encoded pokemon type variables and we need to identify the correlations.\n",
    "\n",
    "The information we need to collect is:\n",
    "\n",
    "#### How to identify the relationship between `Total` and the encoded pokemon type fields?\n",
    "\n",
    "There are multiple ways to answer this question. The easiest way is to use correlation. In the cell below, calculate the correlation of `Total` to each of the encoded fields. Rank the correlations and identify the #1 pokemon type that is most likely to have the highest `Total`."
   ]
  },
  {
   "cell_type": "code",
   "execution_count": 16,
   "metadata": {},
   "outputs": [
    {
     "name": "stdout",
     "output_type": "stream",
     "text": [
      "Highest correlation field: Type 1_Dragon\n"
     ]
    }
   ],
   "source": [
    "correlations = Pokemon_encoded[encoded_names].corrwith(Pokemon_encoded['Total']).sort_values(ascending=False)\n",
    "highest_correlation_field = correlations.index[0]\n",
    "print(\"Highest correlation field:\", highest_correlation_field)"
   ]
  },
  {
   "cell_type": "code",
   "execution_count": null,
   "metadata": {},
   "outputs": [],
   "source": []
  },
  {
   "cell_type": "markdown",
   "metadata": {},
   "source": [
    "# Bonus Question\n",
    "\n",
    "Say now you can choose both `Type 1` and `Type 2` of the pokemon. In order to receive the best pokemon, which types will you choose?"
   ]
  },
  {
   "cell_type": "code",
   "execution_count": 5,
   "metadata": {},
   "outputs": [],
   "source": [
    "# your code here"
   ]
  }
 ],
 "metadata": {
  "kernelspec": {
   "display_name": "Python 3 (ipykernel)",
   "language": "python",
   "name": "python3"
  },
  "language_info": {
   "codemirror_mode": {
    "name": "ipython",
    "version": 3
   },
   "file_extension": ".py",
   "mimetype": "text/x-python",
   "name": "python",
   "nbconvert_exporter": "python",
   "pygments_lexer": "ipython3",
   "version": "3.10.9"
  }
 },
 "nbformat": 4,
 "nbformat_minor": 2
}
