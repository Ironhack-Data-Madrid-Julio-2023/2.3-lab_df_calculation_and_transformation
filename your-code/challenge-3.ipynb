{
 "cells": [
  {
   "cell_type": "markdown",
   "metadata": {},
   "source": [
    "# Challenge 3\n",
    "\n",
    "In this challenge we will work on the `Orders` data set. In your work you will apply the thinking process and workflow we showed you in Challenge 2.\n",
    "\n",
    "You are serving as a Business Intelligence Analyst at the headquarter of an international fashion goods chain store. Your boss today asked you to do two things for her:\n",
    "\n",
    "**First, identify two groups of customers from the data set.** The first group is **VIP Customers** whose **aggregated expenses** at your global chain stores are **above the 95th percentile** (aka. 0.95 quantile). The second group is **Preferred Customers** whose **aggregated expenses** are **between the 75th and 95th percentile**.\n",
    "\n",
    "**Second, identify which country has the most of your VIP customers, and which country has the most of your VIP+Preferred Customers combined.**"
   ]
  },
  {
   "cell_type": "markdown",
   "metadata": {},
   "source": [
    "## Q1: How to identify VIP & Preferred Customers?\n",
    "\n",
    "We start by importing all the required libraries:"
   ]
  },
  {
   "cell_type": "code",
   "execution_count": 1,
   "metadata": {},
   "outputs": [],
   "source": [
    "# import required libraries los viejos conocidos\n",
    "import pandas as pd\n",
    "import numpy as np\n",
    "\n"
   ]
  },
  {
   "cell_type": "markdown",
   "metadata": {},
   "source": [
    "Next, import `Orders` from Ironhack's database into a dataframe variable called `orders`. Print the head of `orders` to overview the data:"
   ]
  },
  {
   "cell_type": "code",
   "execution_count": 2,
   "metadata": {},
   "outputs": [],
   "source": [
    "# your code here\n",
    "\n",
    "orders = pd.read_csv(\"Orders.csv\")"
   ]
  },
  {
   "cell_type": "markdown",
   "metadata": {},
   "source": [
    "---\n",
    "\n",
    "\"Identify VIP and Preferred Customers\" is the non-technical goal of your boss. You need to translate that goal into technical languages that data analysts use:\n",
    "\n",
    "## How to label customers whose aggregated `amount_spent` is in a given quantile range?\n"
   ]
  },
  {
   "cell_type": "markdown",
   "metadata": {},
   "source": [
    "We break down the main problem into several sub problems:\n",
    "\n",
    "#### Sub Problem 1: How to aggregate the  `amount_spent` for unique customers?\n",
    "\n",
    "#### Sub Problem 2: How to select customers whose aggregated `amount_spent` is in a given quantile range?\n",
    "\n",
    "#### Sub Problem 3: How to label selected customers as \"VIP\" or \"Preferred\"?\n",
    "\n",
    "*Note: If you want to break down the main problem in a different way, please feel free to revise the sub problems above.*\n",
    "\n",
    "Now in the workspace below, tackle each of the sub problems using the iterative problem solving workflow. Insert cells as necessary to write your codes and explain your steps."
   ]
  },
  {
   "cell_type": "code",
   "execution_count": 10,
   "metadata": {},
   "outputs": [
    {
     "name": "stderr",
     "output_type": "stream",
     "text": [
      "C:\\Users\\filokaizen\\AppData\\Local\\Temp\\ipykernel_5480\\2435105850.py:3: FutureWarning: The default value of numeric_only in DataFrameGroupBy.sum is deprecated. In a future version, numeric_only will default to False. Either specify numeric_only or select only columns which should be valid for the function.\n",
      "  orders.groupby([\"CustomerID\",\"amount_spent\"]).sum().reset_index\n"
     ]
    },
    {
     "data": {
      "text/plain": [
       "<bound method DataFrame.reset_index of                          Unnamed: 0  InvoiceNo  year  month  day  hour  \\\n",
       "CustomerID amount_spent                                                  \n",
       "12346      77183.60           61619     541431  2011      1    2    10   \n",
       "12347      5.04               72269     542237  2011      1    3    14   \n",
       "           6.00              148306     549222  2011      4    4    10   \n",
       "           7.80              220578    1091459  4022      5    7    24   \n",
       "           8.40             1927984    2309382  8044     44    8    54   \n",
       "...                             ...        ...   ...    ...  ...   ...   \n",
       "18287      53.10             198737     554065  2011      5    7    10   \n",
       "           59.40             198740     554065  2011      5    7    10   \n",
       "           69.60             984228    1695495  6033     25   13    30   \n",
       "           81.12             785485    1141430  4022     20    6    20   \n",
       "           87.00             198741     554065  2011      5    7    10   \n",
       "\n",
       "                         Quantity  UnitPrice  \n",
       "CustomerID amount_spent                       \n",
       "12346      77183.60         74215       1.04  \n",
       "12347      5.04                12       0.42  \n",
       "           6.00                24       0.25  \n",
       "           7.80                24       1.30  \n",
       "           8.40                80       1.68  \n",
       "...                           ...        ...  \n",
       "18287      53.10               18       2.95  \n",
       "           59.40               36       1.65  \n",
       "           69.60              144       4.35  \n",
       "           81.12               96       3.38  \n",
       "           87.00               60       1.45  \n",
       "\n",
       "[139901 rows x 8 columns]>"
      ]
     },
     "execution_count": 10,
     "metadata": {},
     "output_type": "execute_result"
    }
   ],
   "source": [
    "# your code here\n",
    "\n",
    "gastos = orders.groupby([\"CustomerID\",\"amount_spent\"]).sum().reset_index\n"
   ]
  },
  {
   "cell_type": "code",
   "execution_count": 9,
   "metadata": {},
   "outputs": [
    {
     "name": "stdout",
     "output_type": "stream",
     "text": [
      "<bound method DataFrame.reset_index of                          Unnamed: 0  InvoiceNo  year  month  day  hour  \\\n",
      "CustomerID amount_spent                                                  \n",
      "12346      77183.60           61619     541431  2011      1    2    10   \n",
      "12347      5.04               72269     542237  2011      1    3    14   \n",
      "           6.00              148306     549222  2011      4    4    10   \n",
      "           7.80              220578    1091459  4022      5    7    24   \n",
      "           8.40             1927984    2309382  8044     44    8    54   \n",
      "...                             ...        ...   ...    ...  ...   ...   \n",
      "18287      53.10             198737     554065  2011      5    7    10   \n",
      "           59.40             198740     554065  2011      5    7    10   \n",
      "           69.60             984228    1695495  6033     25   13    30   \n",
      "           81.12             785485    1141430  4022     20    6    20   \n",
      "           87.00             198741     554065  2011      5    7    10   \n",
      "\n",
      "                         Quantity  UnitPrice  \n",
      "CustomerID amount_spent                       \n",
      "12346      77183.60         74215       1.04  \n",
      "12347      5.04                12       0.42  \n",
      "           6.00                24       0.25  \n",
      "           7.80                24       1.30  \n",
      "           8.40                80       1.68  \n",
      "...                           ...        ...  \n",
      "18287      53.10               18       2.95  \n",
      "           59.40               36       1.65  \n",
      "           69.60              144       4.35  \n",
      "           81.12               96       3.38  \n",
      "           87.00               60       1.45  \n",
      "\n",
      "[139901 rows x 8 columns]>\n"
     ]
    }
   ],
   "source": []
  },
  {
   "cell_type": "code",
   "execution_count": null,
   "metadata": {},
   "outputs": [],
   "source": []
  },
  {
   "cell_type": "code",
   "execution_count": null,
   "metadata": {},
   "outputs": [],
   "source": []
  },
  {
   "cell_type": "markdown",
   "metadata": {},
   "source": [
    "Now we'll leave it to you to solve Q2 & Q3, which you can leverage from your solution for Q1:\n",
    "\n",
    "## Q2: How to identify which country has the most VIP Customers?"
   ]
  },
  {
   "cell_type": "code",
   "execution_count": 4,
   "metadata": {},
   "outputs": [],
   "source": [
    "# your code here"
   ]
  },
  {
   "cell_type": "code",
   "execution_count": null,
   "metadata": {},
   "outputs": [],
   "source": []
  },
  {
   "cell_type": "markdown",
   "metadata": {},
   "source": [
    "## Q3: How to identify which country has the most VIP+Preferred Customers combined?"
   ]
  },
  {
   "cell_type": "code",
   "execution_count": 5,
   "metadata": {},
   "outputs": [],
   "source": [
    "# your code here"
   ]
  },
  {
   "cell_type": "code",
   "execution_count": null,
   "metadata": {},
   "outputs": [],
   "source": []
  },
  {
   "cell_type": "code",
   "execution_count": null,
   "metadata": {},
   "outputs": [],
   "source": []
  }
 ],
 "metadata": {
  "kernelspec": {
   "display_name": "Python 3 (ipykernel)",
   "language": "python",
   "name": "python3"
  },
  "language_info": {
   "codemirror_mode": {
    "name": "ipython",
    "version": 3
   },
   "file_extension": ".py",
   "mimetype": "text/x-python",
   "name": "python",
   "nbconvert_exporter": "python",
   "pygments_lexer": "ipython3",
   "version": "3.11.4"
  }
 },
 "nbformat": 4,
 "nbformat_minor": 2
}
